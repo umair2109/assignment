{
 "cells": [
  {
   "cell_type": "markdown",
   "id": "6b6d37bc-c819-4349-881b-8a71162028e3",
   "metadata": {},
   "source": [
    "#Q-1  Create a python program to sort the given list of tuples based on integer value using a lambda function.\n",
    "[('Sachin Tendulkar', 34357), ('Ricky Ponting', 27483), ('Jack Kallis', 25534), ('Virat Kohli', 24936)]"
   ]
  },
  {
   "cell_type": "code",
   "execution_count": 1,
   "id": "00a61727-9871-4d94-ad94-9129f44a2196",
   "metadata": {},
   "outputs": [
    {
     "name": "stdout",
     "output_type": "stream",
     "text": [
      "[('Virat Kohli', 24936), ('Jack Kallis', 25534), ('Ricky Ponting', 27483), ('Sachin Tendulkar', 34357)]\n"
     ]
    }
   ],
   "source": [
    "#Create a python program to sort the given list of tuples based on integer value using a lambda function.\n",
    "l1 = [('Sachin Tendulkar', 34357), ('Ricky Ponting', 27483), ('Jack Kallis', 25534), ('Virat Kohli', 24936)]\n",
    "l1.sort(key = lambda l1: l1[1])\n",
    "print(l1)"
   ]
  },
  {
   "cell_type": "markdown",
   "id": "b1f1d8ab-7496-40cb-8cb2-2776fd0ea87b",
   "metadata": {},
   "source": [
    "#Q2. Write a Python Program to find the squares of all the numbers in the given list of integers using lambda and map functions"
   ]
  },
  {
   "cell_type": "code",
   "execution_count": 2,
   "id": "545c867d-f034-43ee-8c9d-a122f939f20c",
   "metadata": {},
   "outputs": [
    {
     "name": "stdout",
     "output_type": "stream",
     "text": [
      "[1, 4, 9, 16, 25, 36, 49, 64, 81, 100]\n"
     ]
    }
   ],
   "source": [
    "#a Python Program to find the squares of all the numbers in the given list of integers using lambda and map functions.\n",
    "l2 = [1, 2, 3, 4, 5, 6, 7, 8, 9, 10]\n",
    "print(list(map(lambda x: x**2, l2)))"
   ]
  },
  {
   "cell_type": "markdown",
   "id": "875650e6-c978-4630-9c2d-aaf9e23fad5d",
   "metadata": {},
   "source": [
    "#Q3. Write a python program to convert the given list of integers into a tuple of strings. Use map and lambda functions\n",
    "Given String: [1, 2, 3, 4, 5, 6, 7, 8, 9, 10]\n",
    "Expected output: ('1', '2', '3', '4', '5', '6', '7', '8', '9', '10')"
   ]
  },
  {
   "cell_type": "code",
   "execution_count": 3,
   "id": "c0ee2f44-6bde-450e-b120-915be7352bd4",
   "metadata": {},
   "outputs": [
    {
     "name": "stdout",
     "output_type": "stream",
     "text": [
      "('1', '2', '3', '4', '5', '6', '7', '8', '9', '10')\n"
     ]
    }
   ],
   "source": [
    "#a python program to convert the given list of integers into a tuple of strings. Use map and lambda functions\n",
    "l3 = [1, 2, 3, 4, 5, 6, 7, 8, 9, 10]\n",
    "print(tuple(map(lambda x: str(x), l3)))"
   ]
  },
  {
   "cell_type": "markdown",
   "id": "76e9c7da-37b0-4ad3-86b6-4f0a5f52c6de",
   "metadata": {},
   "source": [
    "#Q4. Write a python program using reduce function to compute the product of a list containing numbers from 1 to 25."
   ]
  },
  {
   "cell_type": "code",
   "execution_count": 4,
   "id": "a01f59aa-5fc3-4391-9046-ed3a5cffc91d",
   "metadata": {},
   "outputs": [
    {
     "name": "stdout",
     "output_type": "stream",
     "text": [
      "15511210043330985984000000\n"
     ]
    }
   ],
   "source": [
    "#a python program using reduce function to compute the product of a list containing numbers from 1 to 25.\n",
    "from functools import reduce\n",
    "l4=[1, 2, 3, 4, 5, 6, 7, 8, 9, 10, 11, 12, 13, 14, 15, 16, 17, 18, 19, 20, 21, 22, 23, 24, 25]\n",
    "print(reduce(lambda x, y: x*y,  l4))"
   ]
  },
  {
   "cell_type": "markdown",
   "id": "19a402e8-987a-4172-8bbd-40e28451b345",
   "metadata": {},
   "source": [
    "#Q5. Write a python program to filter the numbers in a given list that are divisible by 2 and 3 using the filter function.\n",
    "[2, 3, 6, 9, 27, 60, 90, 120, 55, 46]"
   ]
  },
  {
   "cell_type": "code",
   "execution_count": null,
   "id": "8cad4175-bcca-45c3-836e-be3ae3ba01cd",
   "metadata": {},
   "outputs": [],
   "source": []
  }
 ],
 "metadata": {
  "kernelspec": {
   "display_name": "Python 3 (ipykernel)",
   "language": "python",
   "name": "python3"
  },
  "language_info": {
   "codemirror_mode": {
    "name": "ipython",
    "version": 3
   },
   "file_extension": ".py",
   "mimetype": "text/x-python",
   "name": "python",
   "nbconvert_exporter": "python",
   "pygments_lexer": "ipython3",
   "version": "3.10.8"
  }
 },
 "nbformat": 4,
 "nbformat_minor": 5
}
