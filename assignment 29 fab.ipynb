{
 "cells": [
  {
   "cell_type": "code",
   "execution_count": 10,
   "id": "9487823c-b37d-4a6a-9246-95cf3d3b6a46",
   "metadata": {},
   "outputs": [],
   "source": [
    "ans1 = [\"Guido van Rossum\"]"
   ]
  },
  {
   "cell_type": "code",
   "execution_count": 12,
   "id": "cb02db7f-7386-46da-99ac-df871e24c48a",
   "metadata": {},
   "outputs": [],
   "source": [
    "ans2=['Python is an interpreted, interactive, object-oriented programming language']"
   ]
  },
  {
   "cell_type": "code",
   "execution_count": 15,
   "id": "009edea2-77ee-4445-9609-2666128a5fb6",
   "metadata": {},
   "outputs": [],
   "source": [
    "ans3=[\"Yes, Python is a case-sensitive language\"]"
   ]
  },
  {
   "cell_type": "code",
   "execution_count": 16,
   "id": "8343e813-864c-4eab-9630-dfc4e8113350",
   "metadata": {},
   "outputs": [],
   "source": [
    "ans4=['.py']"
   ]
  },
  {
   "cell_type": "code",
   "execution_count": 17,
   "id": "7f7e9cc8-6145-4522-9f28-032ff5aec7ee",
   "metadata": {},
   "outputs": [],
   "source": [
    "ans5=[\"Python is an interpreted languag\"]"
   ]
  },
  {
   "cell_type": "code",
   "execution_count": 19,
   "id": "a281bda5-45c4-4355-9614-b45deb5795be",
   "metadata": {},
   "outputs": [],
   "source": [
    "ans6=[\" a module, a function body, and a class definition\"]"
   ]
  },
  {
   "cell_type": "code",
   "execution_count": 20,
   "id": "fe583c36-f892-4326-9cc2-cf04e549c39f",
   "metadata": {},
   "outputs": [],
   "source": [
    "ans7=[\" # character before any statement or line of cod\"]"
   ]
  },
  {
   "cell_type": "code",
   "execution_count": 21,
   "id": "a6ffaf75-2b96-4c99-b441-a7b21d4cf14f",
   "metadata": {},
   "outputs": [],
   "source": [
    "ans8=[\"python --version\"]"
   ]
  },
  {
   "cell_type": "code",
   "execution_count": 25,
   "id": "ce66dd99-f004-4b06-8251-b69662cca8ae",
   "metadata": {},
   "outputs": [],
   "source": [
    "ans9=[\"lambda\"]"
   ]
  },
  {
   "cell_type": "code",
   "execution_count": 26,
   "id": "c0993aaa-978d-408b-90c3-58ff9ab715ad",
   "metadata": {},
   "outputs": [],
   "source": [
    "ans10=[\"PIP is a package manager for Python packages\"]"
   ]
  },
  {
   "cell_type": "code",
   "execution_count": 27,
   "id": "81e11ef9-14e6-4794-949c-7d7790797658",
   "metadata": {},
   "outputs": [],
   "source": [
    "ans11=int(),float(),list()"
   ]
  },
  {
   "cell_type": "code",
   "execution_count": 28,
   "id": "e76ad8a9-eeb8-43a8-9612-8eb0fe70e55b",
   "metadata": {},
   "outputs": [],
   "source": [
    "ans11=[79]"
   ]
  },
  {
   "cell_type": "code",
   "execution_count": 32,
   "id": "017af182-b4f3-46a6-a081-3a0a4d3eaea1",
   "metadata": {},
   "outputs": [],
   "source": [
    "ans12=[\"Data science\",\"Scientific and mathematical computing\"]"
   ]
  },
  {
   "cell_type": "code",
   "execution_count": 33,
   "id": "84d72047-db91-4c6b-a192-4a048320955c",
   "metadata": {},
   "outputs": [],
   "source": [
    "ans13=[\"Memory management in Python involves a private heap containing all Python objects and data structures. The management of this private heap is ensured internally by the Python memory manage\"]"
   ]
  },
  {
   "cell_type": "code",
   "execution_count": 35,
   "id": "a465aa45-b232-41f0-a5ad-c935d43764c6",
   "metadata": {},
   "outputs": [],
   "source": [
    "ans14=[\"In the System Properties window, click the Advanced tab, then click the Environment Variables button near the bottom of that tab. In the Environment Variables window , highlight the Path variable in the System variables section and click the Edit button\"]"
   ]
  },
  {
   "cell_type": "code",
   "execution_count": 36,
   "id": "9cb6f04b-5ae1-40db-ac8f-6f850f7ae719",
   "metadata": {},
   "outputs": [
    {
     "data": {
      "text/plain": [
       "['In the System Properties window, click the Advanced tab, then click the Environment Variables button near the bottom of that tab. In the Environment Variables window , highlight the Path variable in the System variables section and click the Edit button']"
      ]
     },
     "execution_count": 36,
     "metadata": {},
     "output_type": "execute_result"
    }
   ],
   "source": []
  },
  {
   "cell_type": "code",
   "execution_count": null,
   "id": "f1fcdd59-de44-4dfa-b69e-6970a880d6a3",
   "metadata": {},
   "outputs": [],
   "source": []
  }
 ],
 "metadata": {
  "kernelspec": {
   "display_name": "Python 3 (ipykernel)",
   "language": "python",
   "name": "python3"
  },
  "language_info": {
   "codemirror_mode": {
    "name": "ipython",
    "version": 3
   },
   "file_extension": ".py",
   "mimetype": "text/x-python",
   "name": "python",
   "nbconvert_exporter": "python",
   "pygments_lexer": "ipython3",
   "version": "3.10.8"
  }
 },
 "nbformat": 4,
 "nbformat_minor": 5
}
