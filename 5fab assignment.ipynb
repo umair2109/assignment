{
 "cells": [
  {
   "cell_type": "markdown",
   "id": "658fa7c9-036a-4722-972a-1ba30c7d4662",
   "metadata": {},
   "source": [
    "#Q1. Explain Class and Object with respect to Object-Oriented Programming. Give a suitable example."
   ]
  },
  {
   "cell_type": "markdown",
   "id": "96ce96c4-3f85-42df-907a-e169e1d2d41d",
   "metadata": {},
   "source": [
    "#Class: In object-oriented programming, a class is a blueprint or a template for creating objects (an instance of the class). It defines a set of attributes and behaviors that an object of that class will have. A class can be considered as a blueprint for the object or objects that can be created using it.\n",
    "\n",
    "Object: An object is an instance of a class. It is a real-world entity with attributes and behaviors that are defined by the class. An object has a state and a behavior, and it is created from a class. An object is also known as an instance of a class.\n",
    "\n",
    "Example: Let's consider a class called \"Car\". A Car class might have attributes such as color, make, model, and year, and behaviors such as start, stop, and drive. An object of the Car class would be a specific car, such as a red 2022 Toyota Corolla. The red 2022 Toyota Corolla would have the attributes of color (red), make (Toyota), model (Corolla), and year (2022), and it would be able to perform the behaviors start, stop, and drive."
   ]
  },
  {
   "cell_type": "markdown",
   "id": "6ad0bee9-d0f8-483c-a581-b7c00049437b",
   "metadata": {},
   "source": [
    "#Q2. Name the four pillars of OOPs."
   ]
  },
  {
   "cell_type": "markdown",
   "id": "4186d673-fc8d-4523-9007-a9df76efce94",
   "metadata": {},
   "source": [
    "#Q2. Name the four pillars of OOPs."
   ]
  },
  {
   "cell_type": "markdown",
   "id": "18e4a969-7450-4d7f-9af2-33786fee40b0",
   "metadata": {},
   "source": [
    "#Ans: The four pillars of object-oriented programming (OOP) are:\n",
    "\n",
    "Abstraction: Abstraction refers to the practice of exposing only the relevant information and hiding the complexity of the implementation. It allows the user to focus on what the object does rather than how it does it.\n",
    "\n",
    "Encapsulation: Encapsulation is the mechanism of wrapping the data (variables) and functions that operate on that data within a single unit or object. This protects the data from accidental corruption and provides a secure way to access the data.\n",
    "\n",
    "Inheritance: Inheritance is a mechanism where a new class can be derived from an existing class. The derived class inherits all the attributes and behaviors of the parent class and can also have its own attributes and behaviors.\n",
    "\n",
    "Polymorphism: Polymorphism is the ability of an object to take on multiple forms. This is achieved in OOP by defining methods with the same name in different classes that are related by inheritance. When a method is called on an object, the correct implementation of that method is executed based on the object's actual class.\n",
    "\n"
   ]
  },
  {
   "cell_type": "markdown",
   "id": "daf7bafc-828d-4020-9c58-5dfe8e9a2774",
   "metadata": {},
   "source": [
    "#Q3. Explain why the init() function is used. Give a suitable example."
   ]
  },
  {
   "cell_type": "markdown",
   "id": "a7634693-da86-4060-b57d-e3adaaf00049",
   "metadata": {},
   "source": [
    "#Ans: The init() function is used in object-oriented programming to initialize the attributes of an object at the time of its creation. It is a special method that is automatically called when an object is created from a class. The init() method is also known as a constructor.\n",
    "\n",
    "The init() function allows you to set the default values for the object's attributes, perform any initializations, and allocate any required memory when the object is created. The method takes the newly created object as its first argument (usually referred to as self), and additional arguments can be passed to initialize the object's attributes.\n",
    "\n",
    "Example: Consider a class Person that represents a person's name and age. The init() function can be used to initialize these attributes when a new object of the Person class is created."
   ]
  },
  {
   "cell_type": "code",
   "execution_count": 3,
   "id": "b1d8eeb8-5a33-452e-a2be-91cb7fa9efb9",
   "metadata": {},
   "outputs": [
    {
     "name": "stdout",
     "output_type": "stream",
     "text": [
      "John\n",
      "30\n"
     ]
    }
   ],
   "source": [
    "class Person:\n",
    "    def __init__(self, name, age):\n",
    "        self.name = name\n",
    "        self.age = age\n",
    "\n",
    "person = Person(\"John\", 30)\n",
    "print(person.name) # outputs: \"John\"\n",
    "print(person.age) # outputs: 30"
   ]
  },
  {
   "cell_type": "markdown",
   "id": "1b04532b-5144-47e7-b1a9-05704670efb6",
   "metadata": {},
   "source": [
    "#Q4. Why self is used in OOPs?"
   ]
  },
  {
   "cell_type": "markdown",
   "id": "99376779-fd6a-4bcd-a3f9-1430d2f5b6ac",
   "metadata": {},
   "source": [
    "#Ans: In object-oriented programming (OOP), self is used to refer to the instance of the object being manipulated within a method. It is a convention in Python (and some other programming languages) to use self as the first argument in an instance method to refer to the instance of the object.\n",
    "\n",
    "When a method is called on an object, the object is passed as the first argument to the method, and it can be accessed using the self reference. This allows the method to access and modify the object's attributes and perform other operations on the object.\n",
    "\n",
    "For example below:"
   ]
  },
  {
   "cell_type": "code",
   "execution_count": 4,
   "id": "f4034e90-1499-495e-8f9f-c10b41a8d6db",
   "metadata": {},
   "outputs": [
    {
     "name": "stdout",
     "output_type": "stream",
     "text": [
      "John\n",
      "Jane\n"
     ]
    }
   ],
   "source": [
    "class Person:\n",
    "    def __init__(self, name, age):\n",
    "        self.name = name\n",
    "        self.age = age\n",
    "        \n",
    "    def set_name(self, name):\n",
    "        self.name = name\n",
    "        \n",
    "    def set_age(self, age):\n",
    "        self.age = age\n",
    "\n",
    "person = Person(\"John\", 30)\n",
    "print(person.name) # outputs: \"John\"\n",
    "person.set_name(\"Jane\")\n",
    "print(person.name) # outputs: \"Jane\""
   ]
  },
  {
   "cell_type": "markdown",
   "id": "a6fc09dc-8237-4f8c-83f0-bea964cbb44a",
   "metadata": {},
   "source": [
    "#Q5. What is inheritance? Give an example for each type of inheritance."
   ]
  },
  {
   "cell_type": "markdown",
   "id": "990c7fa8-142e-4201-9a54-83410401a97b",
   "metadata": {},
   "source": [
    "#Ans: Inheritance is a mechanism in object-oriented programming (OOP) that allows a new class to be derived from an existing class. The derived class inherits all the attributes and behaviors of the parent class and can also have its own attributes and behaviors. Inheritance enables code reuse and makes it easier to create and maintain large, complex systems.\n",
    "\n",
    "There are several types of inheritance, including:\n",
    "\n",
    "Single inheritance: Single inheritance is a type of inheritance where a derived class inherits from a single base class.\n",
    "Example below:"
   ]
  },
  {
   "cell_type": "code",
   "execution_count": 5,
   "id": "d6bdff37-b079-4807-a8f2-1725f1effb4a",
   "metadata": {},
   "outputs": [
    {
     "name": "stdout",
     "output_type": "stream",
     "text": [
      "Dog\n",
      "4\n",
      "Bark\n"
     ]
    }
   ],
   "source": [
    "class Animal:\n",
    "    def __init__(self, species, legs):\n",
    "        self.species = species\n",
    "        self.legs = legs\n",
    "        \n",
    "    def make_sound(self):\n",
    "        print(\"Some animal sound\")\n",
    "        \n",
    "class Dog(Animal):\n",
    "    def __init__(self, breed):\n",
    "        Animal.__init__(self, \"Dog\", 4)\n",
    "        self.breed = breed\n",
    "        \n",
    "    def make_sound(self):\n",
    "        print(\"Bark\")\n",
    "        \n",
    "dog = Dog(\"Labrador\")\n",
    "print(dog.species) # outputs: \"Dog\"\n",
    "print(dog.legs) # outputs: 4\n",
    "dog.make_sound() # outputs: \"Bark\""
   ]
  },
  {
   "cell_type": "code",
   "execution_count": 6,
   "id": "52dadbac-f789-41c0-a546-15f64911cb68",
   "metadata": {},
   "outputs": [
    {
     "name": "stdout",
     "output_type": "stream",
     "text": [
      "Dog\n",
      "4\n",
      "True\n",
      "Bark\n"
     ]
    }
   ],
   "source": [
    "class Animal:\n",
    "    def __init__(self, species, legs):\n",
    "        self.species = species\n",
    "        self.legs = legs\n",
    "        \n",
    "    def make_sound(self):\n",
    "        print(\"Some animal sound\")\n",
    "        \n",
    "class DomesticAnimal:\n",
    "    def __init__(self, domesticated):\n",
    "        self.domesticated = domesticated\n",
    "        \n",
    "class Dog(Animal, DomesticAnimal):\n",
    "    def __init__(self, breed):\n",
    "        Animal.__init__(self, \"Dog\", 4)\n",
    "        DomesticAnimal.__init__(self, True)\n",
    "        self.breed = breed\n",
    "        \n",
    "    def make_sound(self):\n",
    "        print(\"Bark\")\n",
    "        \n",
    "dog = Dog(\"Labrador\")\n",
    "print(dog.species) # outputs: \"Dog\"\n",
    "print(dog.legs) # outputs: 4\n",
    "print(dog.domesticated) # outputs: True\n",
    "dog.make_sound() # outputs: \"Bark\""
   ]
  },
  {
   "cell_type": "code",
   "execution_count": null,
   "id": "2c8a3c27-f27a-4283-b564-4b8b783bb17f",
   "metadata": {},
   "outputs": [],
   "source": []
  }
 ],
 "metadata": {
  "kernelspec": {
   "display_name": "Python 3 (ipykernel)",
   "language": "python",
   "name": "python3"
  },
  "language_info": {
   "codemirror_mode": {
    "name": "ipython",
    "version": 3
   },
   "file_extension": ".py",
   "mimetype": "text/x-python",
   "name": "python",
   "nbconvert_exporter": "python",
   "pygments_lexer": "ipython3",
   "version": "3.10.8"
  }
 },
 "nbformat": 4,
 "nbformat_minor": 5
}
