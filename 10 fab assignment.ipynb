{
 "cells": [
  {
   "cell_type": "markdown",
   "id": "a371c2b1-076c-4eb5-be73-059f33092413",
   "metadata": {},
   "source": [
    "#Q1. Which function is used to open a file? What are the different modes of opening a file? Explain each mode of file opening."
   ]
  },
  {
   "cell_type": "markdown",
   "id": "e9ec6e6e-d95b-4ee9-aa35-11126e6ef21d",
   "metadata": {},
   "source": [
    "#The open() function is used to open a file. When opening a file, you can specify the mode in which the file should be opened. The different modes are:\n",
    "\n",
    "'r': Read mode is used when you only want to read the file. This is the default mode.\n",
    "\n",
    "'w': Write mode is used when you want to write to the file. If the file already exists, the content is truncated (deleted). If the file does not exist, a new file is created.\n",
    "\n",
    "'a': Append mode is used when you want to append data to the end of an existing file. If the file does not exist, a new file is created.\n",
    "\n",
    "'x': Exclusive creation mode is used when you want to create a new file but only if the file does not already exist. If the file exists, the FileExistsError is raised.\n",
    "\n",
    "'b': Binary mode is used when you want to read or write binary data. When used in combination with other modes, it should be appended as a suffix to the mode string. For example, 'wb' for write in binary mode, or 'rb' for read in binary mode.\n",
    "\n",
    "'t': Text mode is used when you want to read or write text data. When used in combination with other modes, it should be appended as a suffix to the mode string. For example, 'wt' for write in text mode, or 'rt' for read in text mode.\n",
    "\n",
    "Here's an example of opening a file in read mode:"
   ]
  },
  {
   "cell_type": "code",
   "execution_count": 4,
   "id": "42106df7-7ab3-46d0-98a8-def49bd77712",
   "metadata": {},
   "outputs": [
    {
     "name": "stdout",
     "output_type": "stream",
     "text": [
      "<!-- ![ineuron-logo](https://user-images.githubusercontent.com/115527165/196935402-66c2496e-190d-4f67-9f6b-e42c06994999.png) -->\n",
      "# Jupyter lab\n",
      "- Execute the codes in each cell to get the output.\n",
      "\n"
     ]
    }
   ],
   "source": [
    "f = open(\"README.md\", \"r\")\n",
    "content = f.read()\n",
    "print(content)\n",
    "f.close()"
   ]
  },
  {
   "cell_type": "markdown",
   "id": "02331eba-40de-4b71-a086-6dd94d5dcc3e",
   "metadata": {},
   "source": [
    "#Q2. Why close() function is used? Why is it important to close a file?|"
   ]
  },
  {
   "cell_type": "markdown",
   "id": "dcf0e9b8-de2e-43b1-927d-9dd9e7974f5a",
   "metadata": {},
   "source": [
    "#The close() function is used to close a file in Python. It's important to close a file after we're done with it because it frees up resources on your computer and ensures that the file's data is saved correctly.\n",
    "\n",
    "When a file is opened, the operating system reserves a specific amount of memory to hold the file's contents and to keep track of where you are in the file (known as the file pointer). This memory is not freed until the file is closed, which means that if you open a large number of files without closing them, your computer could run out of memory.\n",
    "\n",
    "Furthermore, when you write to a file, the data is not immediately saved to the file on your hard drive. Instead, it's temporarily stored in a buffer (a small area of memory) and is only saved to the file when the buffer is flushed (that is, when it's full or when the file is closed). If we don't close the file, the data in the buffer may be lost if the program terminates before the buffer is flushed.\n",
    "\n",
    "Therefore, it's a best practice to always close a file after we're done with it, to avoid running out of memory and to ensure that the file's data is saved correctly. This can be done using the close() method, as shown in the example I provided in my previous answer. Another way to ensure that a file is closed is to use a with statement, which automatically closes the file for you when the block of code is finished, even if an exception is raised:"
   ]
  },
  {
   "cell_type": "markdown",
   "id": "ed9841a1-bbc9-40ac-9288-904bb9a0d4dc",
   "metadata": {},
   "source": [
    "#Q3. Write a python program to create a text file. Write ‘I want to become a Data Scientist’ in that file. Then close the file. Open this file and read the content of the file."
   ]
  },
  {
   "cell_type": "code",
   "execution_count": 5,
   "id": "13455607-76f0-4cdd-84a0-9c7170d50279",
   "metadata": {},
   "outputs": [
    {
     "name": "stdout",
     "output_type": "stream",
     "text": [
      "I want to become a Data Scientist\n"
     ]
    }
   ],
   "source": [
    "# Create the file and write to it\n",
    "with open(\"sample.txt\", \"w\") as file:\n",
    "    file.write(\"I want to become a Data Scientist\")\n",
    "\n",
    "# Read the contents of the file\n",
    "with open(\"sample.txt\", \"r\") as file:\n",
    "    content = file.read()\n",
    "    print(content)\n",
    "file.close()"
   ]
  },
  {
   "cell_type": "markdown",
   "id": "d2d0ad59-1cbe-4797-9c09-78f58da36237",
   "metadata": {},
   "source": [
    "#Q4. Explain the following with python code: read(), readline() and readlines()."
   ]
  },
  {
   "cell_type": "markdown",
   "id": "06041594-bb78-430c-b1f3-e28acaade392",
   "metadata": {},
   "source": [
    "#read()\n",
    "The read() method reads the entire contents of a file and returns it as a string. You can specify the number of characters you want to read as an optional parameter. If you don't specify a number, the entire file is read. Here's an example:"
   ]
  },
  {
   "cell_type": "code",
   "execution_count": 6,
   "id": "92276832-c618-42cb-a553-b0d77bbe7890",
   "metadata": {},
   "outputs": [
    {
     "name": "stdout",
     "output_type": "stream",
     "text": [
      "I want to become a Data Scientist\n",
      "\n"
     ]
    }
   ],
   "source": [
    "# Open a file for reading\n",
    "file = open('sample.txt', 'r')\n",
    "\n",
    "# Read the first line of the file\n",
    "line1 = file.readline()\n",
    "\n",
    "# Read the second line of the file\n",
    "line2 = file.readline()\n",
    "\n",
    "# Close the file\n",
    "file.close()\n",
    "\n",
    "print(line1)\n",
    "print(line2)"
   ]
  },
  {
   "cell_type": "markdown",
   "id": "6e2902fb-d698-4b7d-b696-1b21fa268708",
   "metadata": {},
   "source": [
    "#The readlines() method reads all the lines in a file and returns them as a list of strings. Each string in the list represents a line in the file. Here's an example:"
   ]
  },
  {
   "cell_type": "code",
   "execution_count": 7,
   "id": "e5f5f9b9-032c-4fa9-a158-fb2b02bdf985",
   "metadata": {},
   "outputs": [
    {
     "name": "stdout",
     "output_type": "stream",
     "text": [
      "I want to become a Data Scientist\n"
     ]
    }
   ],
   "source": [
    "# Open a file for reading\n",
    "file = open('sample.txt', 'r')\n",
    "\n",
    "# Read all the lines in the file\n",
    "lines = file.readlines()\n",
    "\n",
    "# Close the file\n",
    "file.close()\n",
    "\n",
    "# Print each line in the list\n",
    "for line in lines:\n",
    "    print(line)"
   ]
  },
  {
   "cell_type": "markdown",
   "id": "8964dfd4-b334-4510-b41b-beef21a00c98",
   "metadata": {},
   "source": [
    "#Q5. Explain why with statement is used with open(). What is the advantage of using with statement and open() together?"
   ]
  },
  {
   "cell_type": "markdown",
   "id": "fdf0cca6-70b9-41e6-9310-7e80b98340e8",
   "metadata": {},
   "source": [
    "#In Python, the with statement is used in conjunction with open() function when working with files. The with statement is used to ensure that a file is closed automatically after the block of code inside the with statement is executed, regardless of whether the code finishes successfully or not. The with statement handles the closing of the file automatically, so you don't have to worry about it. The with statement opens the file and assigns it to the file variable. The block of code inside the with statement reads the contents of the file using the read() method, and prints it to the console. Once the block of code is done executing, the with statement automatically closes the file.\n",
    "\n",
    "The main advantage of using with statement and open() together is that it helps avoid common errors that can occur when working with files, such as forgetting to close a file after opening it or not handling exceptions properly. By using the with statement, you can ensure that the file is closed properly, even if an exception is raised during the execution of the block of code.\n",
    "\n",
    "In summary, using with statement and open() together provides a cleaner and safer way to work with files in Python, ensuring that files are properly opened and closed and making the code easier to read and maintain."
   ]
  },
  {
   "cell_type": "code",
   "execution_count": 10,
   "id": "1382a9ea-44e6-4fb3-8e03-6d36bb58bcdf",
   "metadata": {},
   "outputs": [
    {
     "name": "stdout",
     "output_type": "stream",
     "text": [
      "I want to become a Data Scientist\n"
     ]
    }
   ],
   "source": [
    "with open('sample.txt', 'r') as file:\n",
    "    contents = file.read()\n",
    "    print(contents)"
   ]
  },
  {
   "cell_type": "markdown",
   "id": "c23b3767-639a-45bb-9ab5-4cd895722676",
   "metadata": {},
   "source": [
    "#Q6. Explain the write() and writelines() functions. Give a suitable example."
   ]
  },
  {
   "cell_type": "markdown",
   "id": "245e2a5b-9666-4e93-b4a4-eb8d5827790a",
   "metadata": {},
   "source": [
    "#In Python, the write() and writelines() functions are used to write data to a file.\n",
    "\n",
    "write() function The write() function is used to write a string to a file. It takes a single argument, which is the string to be written to the file. Here's an example:"
   ]
  },
  {
   "cell_type": "code",
   "execution_count": 12,
   "id": "8a87ab6c-3ab7-45ba-97c9-5e07a4e361b7",
   "metadata": {},
   "outputs": [],
   "source": [
    "# Open a file for writing\n",
    "file = open('example.txt', 'w')\n",
    "\n",
    "# Write a string to the file\n",
    "file.write('Hello, world!\\n')\n",
    "\n",
    "# Close the file\n",
    "file.close()"
   ]
  },
  {
   "cell_type": "markdown",
   "id": "ba53743e-d3a2-46b6-94d4-ddae44538f1d",
   "metadata": {},
   "source": [
    "#writelines() function The writelines() function is used to write a list of strings to a file. It takes a single argument, which is a list of strings to be written to the file. Here's an example"
   ]
  },
  {
   "cell_type": "code",
   "execution_count": 13,
   "id": "196045b1-1a08-4b49-8ad7-82fa7936d0f9",
   "metadata": {},
   "outputs": [],
   "source": [
    "# Open a file for writing\n",
    "file = open('example.txt', 'w')\n",
    "\n",
    "# Write a list of strings to the file\n",
    "lines = ['Line 1\\n', 'Line 2\\n', 'Line 3\\n']\n",
    "file.writelines(lines)\n",
    "\n",
    "# Close the file\n",
    "file.close()"
   ]
  },
  {
   "cell_type": "code",
   "execution_count": null,
   "id": "e09deb1e-a714-46c4-ae74-2cfdec9924be",
   "metadata": {},
   "outputs": [],
   "source": []
  }
 ],
 "metadata": {
  "kernelspec": {
   "display_name": "Python 3 (ipykernel)",
   "language": "python",
   "name": "python3"
  },
  "language_info": {
   "codemirror_mode": {
    "name": "ipython",
    "version": 3
   },
   "file_extension": ".py",
   "mimetype": "text/x-python",
   "name": "python",
   "nbconvert_exporter": "python",
   "pygments_lexer": "ipython3",
   "version": "3.10.8"
  }
 },
 "nbformat": 4,
 "nbformat_minor": 5
}
