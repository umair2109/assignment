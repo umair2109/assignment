{
 "cells": [
  {
   "cell_type": "markdown",
   "id": "ac08a750-ce1c-4aae-9b69-d84f40fe8b22",
   "metadata": {},
   "source": [
    "#Q1. Which keyword is used to create a function? Create a function to return a list of odd numbers in the range of 1 to 25.\n",
    "Ans: def keyword is used to create a function"
   ]
  },
  {
   "cell_type": "code",
   "execution_count": 1,
   "id": "7c133c65-1db8-4add-ad29-d0523cd09d49",
   "metadata": {},
   "outputs": [
    {
     "data": {
      "text/plain": [
       "[1, 3, 5, 7, 9, 11, 13, 15, 17, 19, 21, 23]"
      ]
     },
     "execution_count": 1,
     "metadata": {},
     "output_type": "execute_result"
    }
   ],
   "source": [
    "#Create a function to return a list of odd numbers in the range of 1 to 25.\n",
    "def listOfOdd():\n",
    "    \"\"\"a function to return a list of odd numbers in the range of 1 to 25.\"\"\"\n",
    "    l1=[]\n",
    "    for i in range(1,25):\n",
    "        if i%2 != 0:\n",
    "            l1.append(i)\n",
    "    return l1\n",
    "listOfOdd()"
   ]
  },
  {
   "cell_type": "markdown",
   "id": "2a7a7ed3-c60d-480a-8b8d-6dd863268168",
   "metadata": {},
   "source": [
    "#Q2. Why *args and **kwargs is used in some functions? Create a function each for *args and kwargs to demonstrate their use.\n",
    "Ans: We use *args and **kwargs as an argument when we are unsure about the number of arguments to pass in the functions"
   ]
  },
  {
   "cell_type": "code",
   "execution_count": 8,
   "id": "0739a7c6-ece0-4a9e-b0b8-47f0537ba20c",
   "metadata": {},
   "outputs": [
    {
     "name": "stdout",
     "output_type": "stream",
     "text": [
      "The kwargs[0] having key 'FirstName' and value 'umair'\n",
      "The kwargs[1] having key 'LastName' and value 'khan'\n",
      "The kwargs[2] having key 'Location' and value 'Lucknow'\n",
      "The kwargs[3] having key 'CourseEnrolled' and value 'Data Science Master'\n"
     ]
    }
   ],
   "source": [
    "#a function for *args to demonstrate its use.\n",
    "def demo1(*args):\n",
    "    \"\"\"a function for *args to demonstrate its use.\"\"\"\n",
    "    index=0\n",
    "    for i in args:\n",
    "        print(\"The args[\"+str(index)+\"] having:\",i)\n",
    "        index+=1\n",
    "    demo1 (\"Hi\", \"There\", \"This is test\", 1)\n",
    " \n",
    " #a function for kwargs to demonstrate its use.\n",
    "def demo2(**kwargs):\n",
    "    \"\"\"a function for kwargs to demonstrate its use.\"\"\"\n",
    "    index=0\n",
    "    for key, value in kwargs.items():\n",
    "        print(\"The kwargs[\"+str(index)+\"] having key '\"+str(key)+ \"' and value '\"+str(value)+\"'\")\n",
    "        index+=1\n",
    "demo2 (FirstName= \"umair\", LastName= \"khan\", Location= \"Lucknow\", CourseEnrolled= \"Data Science Master\")\n"
   ]
  },
  {
   "cell_type": "markdown",
   "id": "f3f33f52-fdd6-421a-8b08-7f3af2d6c928",
   "metadata": {},
   "source": [
    "#Q3. What is an iterator in python? Name the method used to initialise the iterator object and the method used for iteration. Use these methods to print the first five elements of the given list [2, 4, 6, 8, 10, 12, 14, 16, 18, 20].\n",
    "Ans: Iterators are methods that iterate collections like lists, tuples, etc. Using an iterator method, we can loop through an object and return its elements. The for loop in Python is used to iterate over a sequence of elements, such as a list, tuple, or string. When we use the for loop with an iterator, the loop will automatically iterate over the elements of the iterator until it is exhausted."
   ]
  },
  {
   "cell_type": "code",
   "execution_count": 9,
   "id": "b7b383d6-f18e-4324-9299-56b547949715",
   "metadata": {},
   "outputs": [
    {
     "name": "stdout",
     "output_type": "stream",
     "text": [
      "2\n",
      "4\n",
      "6\n",
      "8\n",
      "10\n"
     ]
    }
   ],
   "source": [
    "#Use iterator methods to print the first five elements of the given list [2, 4, 6, 8, 10, 12, 14, 16, 18, 20]\n",
    "l=[2, 4, 6, 8, 10, 12, 14, 16, 18, 20]\n",
    "count=0\n",
    "for i in l:\n",
    "    if count<5:\n",
    "        print(i)\n",
    "        count+=1\n"
   ]
  },
  {
   "cell_type": "markdown",
   "id": "f8778418-b244-4100-908b-618f1de7d413",
   "metadata": {},
   "source": [
    "#Q4. What is a generator function in python? Why yield keyword is used? Give an example of a generator function.\n",
    "Ans: A generator function in Python is a special type of function that returns a generator iterator, which can be used to iterate over a sequence of elements. A generator function is defined like a normal function, but instead of using the return statement to return a value, it uses the yield statement. The yield statement is used to produce a value, and the generator function can be resumed from where it left off the next time next() is called on the generator.\n",
    "\n",
    "Here's an example of a generator function that generates the Fibonacci sequence:"
   ]
  },
  {
   "cell_type": "code",
   "execution_count": 10,
   "id": "9f66a666-3f23-4393-b806-c425cd464540",
   "metadata": {},
   "outputs": [
    {
     "name": "stdout",
     "output_type": "stream",
     "text": [
      "0\n",
      "1\n",
      "1\n",
      "2\n",
      "3\n",
      "5\n",
      "8\n",
      "13\n",
      "21\n",
      "34\n"
     ]
    }
   ],
   "source": [
    "#the fibonacci series program using generator yield\n",
    "def fibonacci():\n",
    "    \"\"\"This function will generate fibonacci sequence\"\"\"\n",
    "    a, b = 0, 1\n",
    "    while True:\n",
    "        yield a\n",
    "        a, b = b, a + b\n",
    "\n",
    "fib = fibonacci()\n",
    "for i in range(10):\n",
    "    print(next(fib))"
   ]
  },
  {
   "cell_type": "markdown",
   "id": "3b85acbc-4e94-4873-a182-0baf25f37c9a",
   "metadata": {},
   "source": [
    "#Q5. Create a generator function for prime numbers less than 1000. Use the next() method to print the first 20 prime numbers."
   ]
  },
  {
   "cell_type": "code",
   "execution_count": 11,
   "id": "9e78bb99-c422-4027-ac0d-0569b27a113f",
   "metadata": {},
   "outputs": [
    {
     "name": "stdout",
     "output_type": "stream",
     "text": [
      "2\n",
      "3\n",
      "5\n",
      "7\n",
      "11\n",
      "13\n",
      "17\n",
      "19\n",
      "23\n",
      "29\n",
      "31\n",
      "37\n",
      "41\n",
      "43\n",
      "47\n",
      "53\n",
      "59\n",
      "61\n",
      "67\n",
      "71\n"
     ]
    }
   ],
   "source": [
    "#a generator function for prime numbers less than 1000. Use the next() method to print the first 20 prime numbers.\n",
    "def primes():\n",
    "    \"\"\"Create a generator function for prime numbers less than 1000.\"\"\"\n",
    "    yield 2\n",
    "    primes_list = [2]\n",
    "    for i in range(3, 1000):\n",
    "        is_prime = True\n",
    "        for prime in primes_list:\n",
    "            if i % prime == 0:\n",
    "                is_prime = False\n",
    "                break\n",
    "        if is_prime:\n",
    "            primes_list.append(i)\n",
    "            yield i\n",
    "\n",
    "prime_gen = primes()\n",
    "# the next() method to print the first 20 prime numbers.\n",
    "for i in range(20):\n",
    "    print(next(prime_gen))"
   ]
  },
  {
   "cell_type": "markdown",
   "id": "70696597-d3a1-4856-b5f1-993cab2b1fe0",
   "metadata": {},
   "source": [
    "#Q6. Write a python program to print the first 10 Fibonacci numbers using a while loop."
   ]
  },
  {
   "cell_type": "code",
   "execution_count": 12,
   "id": "008c6a39-bfb7-4925-bc46-c7fcb121bffa",
   "metadata": {},
   "outputs": [
    {
     "name": "stdout",
     "output_type": "stream",
     "text": [
      "0\n",
      "1\n",
      "1\n",
      "2\n",
      "3\n",
      "5\n",
      "8\n",
      "13\n",
      "21\n",
      "34\n"
     ]
    }
   ],
   "source": [
    "\n",
    "#a python program to print the first 10 Fibonacci numbers using a while loop.\n",
    "def fibonacci(n):\n",
    "    \"\"\"This function will print fibonacci sequence\"\"\"\n",
    "    a, b = 0, 1\n",
    "    count = 0\n",
    "    while count < n:\n",
    "        print(a)\n",
    "        a, b = b, a + b\n",
    "        count += 1\n",
    "\n",
    "fibonacci(10)\n"
   ]
  },
  {
   "cell_type": "markdown",
   "id": "21a67e4e-9c46-4558-a910-1cabdd739f5c",
   "metadata": {},
   "source": [
    "#Q7. Write a List Comprehension to iterate through the given string: ‘pwskills’. Expected output: ['p', 'w', 's', 'k', 'i', 'l', 'l', 's']"
   ]
  },
  {
   "cell_type": "code",
   "execution_count": 14,
   "id": "ce62b176-a2fc-4eb0-9a67-7ab6d47bfd68",
   "metadata": {},
   "outputs": [
    {
     "name": "stdout",
     "output_type": "stream",
     "text": [
      "['p', 'w', 's', 'k', 'i', 'l', 'l', 's']\n"
     ]
    }
   ],
   "source": [
    "\n",
    "#a List Comprehension to iterate through the given string: ‘pwskills’.\n",
    "string = 'pwskills'\n",
    "output = [char for char in string]\n",
    "print(output)\n"
   ]
  },
  {
   "cell_type": "markdown",
   "id": "57a03b2d-b25b-4145-9d88-8f5469850fec",
   "metadata": {},
   "source": [
    "#Q8. Write a python program to check whether a given number is Palindrome or not using a while loop."
   ]
  },
  {
   "cell_type": "code",
   "execution_count": null,
   "id": "10265b4e-e8e0-4445-9348-ff151609b0d1",
   "metadata": {},
   "outputs": [],
   "source": [
    "\n",
    "#a python program to check whether a given number is Palindrome or not using a while loop.\n",
    "n = int(input(\"Please give a number : \"))\n",
    "def reverse(num):\n",
    "    if num<10:\n",
    "      return num \n",
    "    else:\n",
    "      return int(str(num%10) + str(reverse(num//10)))\n",
    "def isPalindrome(num):\n",
    "    if num == reverse(num):\n",
    "        return 1\n",
    "    return 0\n",
    "if isPalindrome(n) == 1:\n",
    "    print(\"Given number is a palindrome\")\n",
    "else:\n",
    "    print(\"Given number is a not palindrome\") \n"
   ]
  }
 ],
 "metadata": {
  "kernelspec": {
   "display_name": "Python 3 (ipykernel)",
   "language": "python",
   "name": "python3"
  },
  "language_info": {
   "codemirror_mode": {
    "name": "ipython",
    "version": 3
   },
   "file_extension": ".py",
   "mimetype": "text/x-python",
   "name": "python",
   "nbconvert_exporter": "python",
   "pygments_lexer": "ipython3",
   "version": "3.10.8"
  }
 },
 "nbformat": 4,
 "nbformat_minor": 5
}
