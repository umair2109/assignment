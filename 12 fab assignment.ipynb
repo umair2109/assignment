{
 "cells": [
  {
   "cell_type": "markdown",
   "id": "4c748fa1-54fc-46a8-8112-47ce5d37028a",
   "metadata": {},
   "source": [
    "#Q1. What is an Exception in python? Write the difference between Exceptions and Syntax errors."
   ]
  },
  {
   "cell_type": "markdown",
   "id": "89ac11c6-fa45-45b1-b518-3aac71cf5dbe",
   "metadata": {},
   "source": [
    "#In Python, an Exception is an error that occurs during the execution of a program. When an Exception occurs, the program stops executing and Python raises an error message that describes the type of exception that occurred and the line of code where the exception occurred.\n",
    "\n",
    "Exceptions can occur for a variety of reasons, such as when a program tries to perform an operation on data that is not the expected type or when a program tries to access a resource that is not available. Python provides a set of built-in Exception classes that can be used to handle different types of exceptions.\n",
    "\n",
    "Syntax errors, on the other hand, occur when there is a problem with the syntax of the Python code itself. These errors occur before the program is executed and are caught by the Python interpreter before the code is run. Examples of syntax errors include forgetting to close a parentheses or a quotation mark, or using an incorrect keyword or operator.\n",
    "\n",
    "Here's an example that demonstrates the difference between Exceptions and Syntax errors:"
   ]
  },
  {
   "cell_type": "code",
   "execution_count": 3,
   "id": "f1bc5c47-ee01-4e1b-9643-62b11ab803e8",
   "metadata": {},
   "outputs": [
    {
     "ename": "SyntaxError",
     "evalue": "invalid syntax. Maybe you meant '==' or ':=' instead of '='? (1748918320.py, line 9)",
     "output_type": "error",
     "traceback": [
      "\u001b[0;36m  Cell \u001b[0;32mIn[3], line 9\u001b[0;36m\u001b[0m\n\u001b[0;31m    if b = 6:\u001b[0m\n\u001b[0m       ^\u001b[0m\n\u001b[0;31mSyntaxError\u001b[0m\u001b[0;31m:\u001b[0m invalid syntax. Maybe you meant '==' or ':=' instead of '='?\n"
     ]
    }
   ],
   "source": [
    "# Example of an Exception\n",
    "try:\n",
    "    a = 10 / 0\n",
    "except ZeroDivisionError:\n",
    "    print(\"Error: Division by zero\")\n",
    "\n",
    "# Example of a Syntax error\n",
    "b = 10\n",
    "if b = 6:\n",
    "    print(\"b is equal to 6\")"
   ]
  },
  {
   "cell_type": "markdown",
   "id": "d3a0534e-0503-4c98-95c5-ab1121081640",
   "metadata": {},
   "source": [
    "#In the first example, we try to divide the number 10 by 0, which is not allowed. This causes a ZeroDivisionError Exception to be raised, which we catch and handle by printing an error message.\n",
    "\n",
    "In the second example, we have a syntax error in the if statement, where we are using the assignment operator (=) instead of the equality operator (==). This causes a syntax error, which is caught by the Python interpreter and prevents the program from executing.\n",
    "\n",
    "In summary, Exceptions are errors that occur during the execution of a program, while Syntax errors are errors that occur before the program is executed, due to problems with the syntax of the Python code itself."
   ]
  },
  {
   "cell_type": "markdown",
   "id": "016df85a-49df-4a4b-a579-8cf7a862ffdc",
   "metadata": {},
   "source": [
    "#Q2. What happens when an exception is not handled? Explain with an example"
   ]
  },
  {
   "cell_type": "markdown",
   "id": "22505a92-95e8-4dc4-889c-eab321ab83f7",
   "metadata": {},
   "source": [
    "When an exception is not handled in a Python program, it will cause the program to terminate and an error message will be displayed that describes the type of exception that occurred and the line of code where the exception occurred.\n",
    "\n",
    "Here's an example that demonstrates what happens when an exception is not handled:"
   ]
  },
  {
   "cell_type": "code",
   "execution_count": 5,
   "id": "a2f0b3ed-01a1-4bd0-a6ad-b43be061279c",
   "metadata": {},
   "outputs": [
    {
     "ename": "ZeroDivisionError",
     "evalue": "division by zero",
     "output_type": "error",
     "traceback": [
      "\u001b[0;31m---------------------------------------------------------------------------\u001b[0m",
      "\u001b[0;31mZeroDivisionError\u001b[0m                         Traceback (most recent call last)",
      "Cell \u001b[0;32mIn[5], line 2\u001b[0m\n\u001b[1;32m      1\u001b[0m \u001b[38;5;66;03m# Example of an unhandled exception\u001b[39;00m\n\u001b[0;32m----> 2\u001b[0m a \u001b[38;5;241m=\u001b[39m \u001b[38;5;241;43m20\u001b[39;49m\u001b[43m \u001b[49m\u001b[38;5;241;43m/\u001b[39;49m\u001b[43m \u001b[49m\u001b[38;5;241;43m0\u001b[39;49m\n\u001b[1;32m      3\u001b[0m \u001b[38;5;28mprint\u001b[39m(\u001b[38;5;124m\"\u001b[39m\u001b[38;5;124mResult: \u001b[39m\u001b[38;5;124m\"\u001b[39m, a)\n",
      "\u001b[0;31mZeroDivisionError\u001b[0m: division by zero"
     ]
    }
   ],
   "source": [
    "# Example of an unhandled exception\n",
    "a = 20 / 0\n",
    "print(\"Result: \", a)"
   ]
  },
  {
   "cell_type": "markdown",
   "id": "d462268d-88c6-4054-84f9-7418f29bcd9d",
   "metadata": {},
   "source": [
    "#As we can see from the error message, Python tells us that a ZeroDivisionError occurred and that it was caused by a division by zero on line 1 of the code. The \"Traceback\" section of the error message shows the sequence of function calls that led to the exception.\n",
    "\n",
    "In summary, if an exception is not handled in a Python program, it will cause the program to terminate and display an error message that describes the type of exception that occurred and the line of code where the exception occurred. It's important to handle exceptions in your code to prevent unexpected program termination and to provide a graceful way to handle errors."
   ]
  },
  {
   "cell_type": "markdown",
   "id": "012a448b-810c-4a5f-b961-74cd40e0e7cf",
   "metadata": {},
   "source": [
    "#Q3. Which Python statements are used to catch and handle exceptions? Explain with an example"
   ]
  },
  {
   "cell_type": "markdown",
   "id": "22ce1516-a354-41e4-982f-e876e0846ada",
   "metadata": {},
   "source": [
    "#In Python, the try and except statements are used to catch and handle exceptions. The try statement is used to enclose a block of code that might raise an exception, while the except statement is used to specify how to handle the exception if one is raised.\n",
    "\n",
    "Here's an example that demonstrates how to catch and handle an exception in Python using try and except:"
   ]
  },
  {
   "cell_type": "code",
   "execution_count": 6,
   "id": "b98ccd87-1a78-4fd4-9069-017961253dc4",
   "metadata": {},
   "outputs": [
    {
     "name": "stdout",
     "output_type": "stream",
     "text": [
      "Error: Division by zero\n"
     ]
    }
   ],
   "source": [
    "try:\n",
    "    a = 30 / 0\n",
    "except ZeroDivisionError:\n",
    "    print(\"Error: Division by zero\")"
   ]
  },
  {
   "cell_type": "markdown",
   "id": "bd3dc3b4-014e-46b8-b814-878975ec22ae",
   "metadata": {},
   "source": [
    "#Q4. Explain with an example"
   ]
  },
  {
   "cell_type": "markdown",
   "id": "81ec5323-abea-4e7b-adf7-f87443a1d088",
   "metadata": {},
   "source": [
    "#a. try and else b. finally c. raise\n",
    "\n",
    "In Python, the try statement can be followed by an optional else block. The else block is executed only if the try block does not raise an exception. It is often used to specify code that should be executed regardless of whether an exception occurred or not. Here's an example:\n",
    "\n",
    "python Copy code try:"
   ]
  },
  {
   "cell_type": "code",
   "execution_count": 7,
   "id": "d926e3fc-cab4-40e0-a3e8-498258e12c09",
   "metadata": {},
   "outputs": [
    {
     "name": "stdout",
     "output_type": "stream",
     "text": [
      "a = 10.0\n"
     ]
    }
   ],
   "source": [
    "try:\n",
    "    a = 50 / 5\n",
    "except ZeroDivisionError:\n",
    "    print(\"Error: Division by zero\")\n",
    "else:\n",
    "    print(\"a =\", a)"
   ]
  },
  {
   "cell_type": "markdown",
   "id": "8c062297-7720-4e15-b9b4-f3da34897369",
   "metadata": {},
   "source": [
    "#b. finally:\n",
    "\n",
    "In Python, the finally block can be used to specify code that should be executed regardless of whether an exception was raised or not. The finally block is always executed, even if an exception occurred and was caught by an except block. Here's an example:"
   ]
  },
  {
   "cell_type": "code",
   "execution_count": 9,
   "id": "7a963af4-5e6a-4086-990b-06b6e47d2c55",
   "metadata": {},
   "outputs": [
    {
     "name": "stdout",
     "output_type": "stream",
     "text": [
      "Line 1\n",
      "Line 2\n",
      "Line 3\n",
      "\n"
     ]
    }
   ],
   "source": [
    "try:\n",
    "    file = open(\"example.txt\", \"r\")\n",
    "    contents = file.read()\n",
    "    print(contents)\n",
    "except FileNotFoundError:\n",
    "    print(\"Error: File not found\")\n",
    "finally:\n",
    "    file.close()"
   ]
  },
  {
   "cell_type": "markdown",
   "id": "ef4441dc-bf1c-412b-b3cb-8388f4698d25",
   "metadata": {},
   "source": [
    "#c. raise:\n",
    "\n",
    "In Python, the raise statement can be used to raise an exception manually. It is often used to indicate that an error has occurred and to stop the execution of the program. Here's an example:"
   ]
  },
  {
   "cell_type": "code",
   "execution_count": 11,
   "id": "03429fc1-ede6-449a-aa7c-ec19617c9be2",
   "metadata": {},
   "outputs": [
    {
     "name": "stdout",
     "output_type": "stream",
     "text": [
      "Error: Division by zero\n"
     ]
    }
   ],
   "source": [
    "def divide(x, y):\n",
    "    if y == 0:\n",
    "        raise ZeroDivisionError(\"Error: Division by zero\")\n",
    "    else:\n",
    "        return x / y\n",
    "\n",
    "try:\n",
    "    result = divide(10, 0)\n",
    "except ZeroDivisionError as e:\n",
    "    print(e)"
   ]
  },
  {
   "cell_type": "markdown",
   "id": "94d13252-8f01-4a4c-b177-9f89ae08b455",
   "metadata": {},
   "source": [
    "#Q5. What are Custom Exceptions in python? Why do we need Custom Exceptions? Explain with an example"
   ]
  },
  {
   "cell_type": "markdown",
   "id": "588f9395-8383-4986-8a38-773c75811ef9",
   "metadata": {},
   "source": [
    "#In Python, custom exceptions can be defined by creating a new class that inherits from the built-in Exception class. These custom exceptions can be used to represent specific error conditions that are not covered by the built-in exceptions, and can provide more specific information about what went wrong in the code.\n",
    "\n",
    "We need custom exceptions in Python when we want to raise exceptions that are specific to our own code or application. By creating custom exceptions, we can give more meaningful error messages and provide better feedback to the user. This can help with debugging and troubleshooting, and can make our code more readable and maintainable.\n",
    "\n",
    "Here's an example of how to create a custom exception in Python:"
   ]
  },
  {
   "cell_type": "code",
   "execution_count": 14,
   "id": "7e633ad2-e530-4e50-8f65-24ce85bd1c6e",
   "metadata": {},
   "outputs": [
    {
     "name": "stdout",
     "output_type": "stream",
     "text": [
      "Error: Negative number not allowed: -10\n"
     ]
    }
   ],
   "source": [
    "class NegativeNumberError(Exception):\n",
    "    def __init__(self, number):\n",
    "        self.number = number\n",
    "        self.message = \"Error: Negative number not allowed\"\n",
    "        super().__init__(self.message)\n",
    "\n",
    "    def __str__(self):\n",
    "        return f\"{self.message}: {self.number}\"\n",
    "\n",
    "def divide(a, b):\n",
    "    if b < 0:\n",
    "        raise NegativeNumberError(b)\n",
    "    else:\n",
    "        return a / b\n",
    "\n",
    "try:\n",
    "    result = divide(100, -10)\n",
    "except NegativeNumberError as e:\n",
    "    print(e)"
   ]
  },
  {
   "cell_type": "markdown",
   "id": "a74e7ab1-67e4-4faa-8305-7551e35dec3a",
   "metadata": {},
   "source": [
    "#Q6. Create custom exception class. Use this class to handle an exception."
   ]
  },
  {
   "cell_type": "code",
   "execution_count": 15,
   "id": "87268fe1-fe6d-478c-b5f1-38c649ed102b",
   "metadata": {},
   "outputs": [
    {
     "name": "stdout",
     "output_type": "stream",
     "text": [
      "Error: Division by zero not allowed\n"
     ]
    }
   ],
   "source": [
    "class CustomException(Exception):\n",
    "    def __init__(self, message):\n",
    "        self.message = message\n",
    "        super().__init__(self.message)\n",
    "\n",
    "def divide(a, b):\n",
    "    if b == 0:\n",
    "        raise CustomException(\"Error: Division by zero not allowed\")\n",
    "    else:\n",
    "        return a / b\n",
    "\n",
    "try:\n",
    "    result = divide(30, 0)\n",
    "except CustomException as e:\n",
    "    print(e.message)"
   ]
  },
  {
   "cell_type": "code",
   "execution_count": null,
   "id": "2067005e-dd3c-44d7-bf55-a79834e11c6d",
   "metadata": {},
   "outputs": [],
   "source": []
  }
 ],
 "metadata": {
  "kernelspec": {
   "display_name": "Python 3 (ipykernel)",
   "language": "python",
   "name": "python3"
  },
  "language_info": {
   "codemirror_mode": {
    "name": "ipython",
    "version": 3
   },
   "file_extension": ".py",
   "mimetype": "text/x-python",
   "name": "python",
   "nbconvert_exporter": "python",
   "pygments_lexer": "ipython3",
   "version": "3.10.8"
  }
 },
 "nbformat": 4,
 "nbformat_minor": 5
}
