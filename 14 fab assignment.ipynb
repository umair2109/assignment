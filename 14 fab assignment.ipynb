{
 "cells": [
  {
   "cell_type": "markdown",
   "id": "e79791aa-3274-431b-87cf-5de9225edd4c",
   "metadata": {},
   "source": [
    "#Q1. What is multithreading in python? Why is it used? Name the module used to handle threads in python"
   ]
  },
  {
   "cell_type": "markdown",
   "id": "a5c897a2-3269-4083-8d11-c3b46b0a7fab",
   "metadata": {},
   "source": [
    "#Multithreading in Python is a technique to execute multiple threads (smaller units of a process) simultaneously, each of which runs independently of the main program. It allows multiple threads to share a single CPU, resulting in faster and more efficient execution of programs.\n",
    "\n",
    "Multithreading is used in Python to improve the performance of a program by executing tasks in parallel, especially in cases where tasks are CPU-bound or involve waiting for external resources (e.g., network or disk I/O). It is commonly used in applications that require concurrent or asynchronous processing, such as web servers, data processing pipelines, and real-time systems.\n",
    "\n",
    "In Python, the threading module is used to handle threads. The threading module provides a simple way to create and manage threads, with support for synchronization, locks, and events to coordinate access to shared resources.\n",
    "\n",
    "Here is an example of how to create and start a thread using the threading module:"
   ]
  },
  {
   "cell_type": "code",
   "execution_count": 2,
   "id": "73981829-363a-48dd-932a-dbf61084ab88",
   "metadata": {},
   "outputs": [
    {
     "name": "stdout",
     "output_type": "stream",
     "text": [
      "This is my thread\n"
     ]
    }
   ],
   "source": [
    "import threading\n",
    "\n",
    "def thread_func():\n",
    "    print(\"This is my thread\")\n",
    "\n",
    "t = threading.Thread(target=thread_func)\n",
    "t.start()"
   ]
  },
  {
   "cell_type": "markdown",
   "id": "c1cb5279-2c49-47a8-be3d-8c6b9cd4353d",
   "metadata": {},
   "source": [
    "#Q2. Why threading module used? Write the use of the following functions"
   ]
  },
  {
   "cell_type": "markdown",
   "id": "de7b31ca-7fc2-4f8f-8ba3-26522c89efb7",
   "metadata": {},
   "source": [
    "#activeCount() currentThread() enumerate()\n",
    "\n",
    "The threading module in Python is used to create and manage threads. It provides a high-level interface for creating threads and controlling their execution, with support for synchronization, locks, and events to coordinate access to shared resources.\n",
    "\n",
    "Here is a brief explanation of the functions you asked about:\n",
    "\n",
    "activeCount(): This function returns the number of currently active threads in the current thread's thread control block. It can be used to check how many threads are currently running in a program.\n",
    "\n",
    "currentThread(): This function returns a reference to the current thread object. It can be used to get information about the current thread, such as its name, identifier, and state.\n",
    "\n",
    "enumerate(): This function returns a list of all currently active thread objects. It can be used to get information about all the threads that are currently running in a program.\n",
    "\n",
    "Here's an example of how to use these functions:"
   ]
  },
  {
   "cell_type": "code",
   "execution_count": 3,
   "id": "8805f13c-1c89-44b0-bc80-7dbc1a95a951",
   "metadata": {},
   "outputs": [
    {
     "name": "stdout",
     "output_type": "stream",
     "text": [
      "This is my thread\n",
      "Number of active threads: 8\n",
      "Current thread: <_MainThread(MainThread, started 139627765237568)>\n",
      "All threads: [<_MainThread(MainThread, started 139627765237568)>, <Thread(IOPub, started daemon 139627694708288)>, <Heartbeat(Heartbeat, started daemon 139627686315584)>, <Thread(Thread-3 (_watch_pipe_fd), started daemon 139627661137472)>, <Thread(Thread-4 (_watch_pipe_fd), started daemon 139627652744768)>, <ControlThread(Control, started daemon 139627306415680)>, <HistorySavingThread(IPythonHistorySavingThread, started 139627298022976)>, <ParentPollerUnix(Thread-2, started daemon 139627289630272)>]\n"
     ]
    }
   ],
   "source": [
    "import threading\n",
    "\n",
    "def my_thread_func():\n",
    "    print(\"This is my thread\")\n",
    "\n",
    "# Create a new thread\n",
    "t = threading.Thread(target=my_thread_func)\n",
    "\n",
    "# Start the thread\n",
    "t.start()\n",
    "\n",
    "# Get the number of currently active threads\n",
    "num_threads = threading.active_count()\n",
    "print(\"Number of active threads:\", num_threads)\n",
    "\n",
    "# Get a reference to the current thread\n",
    "current_thread = threading.current_thread()\n",
    "print(\"Current thread:\", current_thread)\n",
    "\n",
    "# Get a list of all currently active threads\n",
    "all_threads = threading.enumerate()\n",
    "print(\"All threads:\", all_threads)"
   ]
  },
  {
   "cell_type": "markdown",
   "id": "689c45c0-71bf-4b72-9019-f6433f8e41e7",
   "metadata": {},
   "source": [
    "#Q3. Explain the following functions\n",
    "run() start() join() isAlive()"
   ]
  },
  {
   "cell_type": "markdown",
   "id": "17f3fc49-404d-4321-8467-0ef8a9f07dbb",
   "metadata": {},
   "source": [
    "#These functions are related to the Thread class in Python's threading module. Here's an explanation of each function:\n",
    "\n",
    "run(): This is the method that gets called when you start a thread. It contains the code that will run in the new thread. When creating a new thread, you can define your own run() method that will be executed in that thread.\n",
    "\n",
    "start(): This method starts the thread by calling the run() method. Once you've created a new thread with the Thread class, you can start it by calling the start() method.\n",
    "\n",
    "join(): This method blocks the main thread until the thread it's called on has finished. When you call join() on a thread, the main thread will wait until the thread has finished before continuing execution. This is useful if you need to ensure that a certain thread has completed before continuing with the rest of your code.\n",
    "\n",
    "is_alive(): This method returns True if the thread is still running, and False if it has finished. You can use this method to check the status of a thread and determine whether it's still executing or not.\n",
    "\n",
    "Here's an example that demonstrates the use of these methods:"
   ]
  },
  {
   "cell_type": "code",
   "execution_count": 4,
   "id": "7cc5d91a-718a-48f0-82cd-af9afc171f6a",
   "metadata": {},
   "outputs": [
    {
     "name": "stdout",
     "output_type": "stream",
     "text": [
      "Worker thread started\n",
      "Thread is still running\n",
      "Worker thread finished\n",
      "Thread has finished\n"
     ]
    }
   ],
   "source": [
    "import threading\n",
    "import time\n",
    "\n",
    "def worker():\n",
    "    print(\"Worker thread started\")\n",
    "    time.sleep(2)\n",
    "    print(\"Worker thread finished\")\n",
    "\n",
    "t = threading.Thread(target=worker)\n",
    "\n",
    "# Start the thread\n",
    "t.start()\n",
    "\n",
    "# Check if the thread is still running\n",
    "if t.is_alive():\n",
    "    print(\"Thread is still running\")\n",
    "\n",
    "# Wait for the thread to finish\n",
    "t.join()\n",
    "\n",
    "# Check if the thread is still running (should return False now)\n",
    "if t.is_alive():\n",
    "    print(\"Thread is still running\")\n",
    "else:\n",
    "    print(\"Thread has finished\")"
   ]
  },
  {
   "cell_type": "markdown",
   "id": "a0dec3af-a848-4fc0-8934-550da1fe39a7",
   "metadata": {},
   "source": [
    "#Q4. Write a python program to create two threads. Thread one must print the list of squares and thread two must print the list of cubes"
   ]
  },
  {
   "cell_type": "code",
   "execution_count": 5,
   "id": "1312e873-d208-41ba-82e2-7b1eb823efe9",
   "metadata": {},
   "outputs": [
    {
     "name": "stdout",
     "output_type": "stream",
     "text": [
      "2 squared is 4\n",
      "3 squared is 9\n",
      "4 squared is 16\n",
      "5 squared is 25\n",
      "6 squared is 36\n",
      "7 squared is 49\n",
      "8 squared is 64\n",
      "9 squared is 81\n",
      "10 squared is 100\n",
      "11 squared is 121\n",
      "12 squared is 144\n",
      "13 squared is 169\n",
      "14 squared is 196\n",
      "15 squared is 225\n",
      "16 squared is 256\n",
      "17 squared is 289\n",
      "18 squared is 324\n",
      "19 squared is 361\n",
      "20 squared is 400\n",
      "21 squared is 441\n",
      "2 cubed is 8\n",
      "3 cubed is 27\n",
      "4 cubed is 64\n",
      "5 cubed is 125\n",
      "6 cubed is 216\n",
      "7 cubed is 343\n",
      "8 cubed is 512\n",
      "9 cubed is 729\n",
      "10 cubed is 1000\n",
      "11 cubed is 1331\n",
      "12 cubed is 1728\n",
      "13 cubed is 2197\n",
      "14 cubed is 2744\n",
      "15 cubed is 3375\n",
      "16 cubed is 4096\n",
      "17 cubed is 4913\n",
      "18 cubed is 5832\n",
      "19 cubed is 6859\n",
      "20 cubed is 8000\n",
      "21 cubed is 9261\n"
     ]
    }
   ],
   "source": [
    "import threading\n",
    "\n",
    "def squares():\n",
    "    for i in range(2, 22):\n",
    "        print(f\"{i} squared is {i*i}\")\n",
    "\n",
    "def cubes():\n",
    "    for i in range(2, 22):\n",
    "        print(f\"{i} cubed is {i*i*i}\")\n",
    "\n",
    "# Create the threads\n",
    "t1 = threading.Thread(target=squares)\n",
    "t2 = threading.Thread(target=cubes)\n",
    "\n",
    "# Start the threads\n",
    "t1.start()\n",
    "t2.start()\n",
    "\n",
    "# Wait for the threads to finish\n",
    "t1.join()\n",
    "t2.join()"
   ]
  },
  {
   "cell_type": "markdown",
   "id": "9c2a2ed4-01ad-497b-973a-586181067029",
   "metadata": {},
   "source": [
    "#Q5. State advantages and disadvantages of multithreading"
   ]
  },
  {
   "cell_type": "markdown",
   "id": "19399daf-e759-4a2f-8144-53aa5c7b9d02",
   "metadata": {},
   "source": [
    "Multithreading can offer several advantages and disadvantages, which are listed below:\n",
    "\n",
    "Advantages:\n",
    "\n",
    "Improved performance: Multithreading can improve the performance of a program by allowing it to perform multiple tasks concurrently.\n",
    "\n",
    "Increased responsiveness: Multithreading can improve the responsiveness of a program by allowing it to continue processing user input or other events while it performs time-consuming tasks in the background.\n",
    "\n",
    "Resource sharing: Multithreading can allow multiple threads to share resources, such as memory and file handles, which can save memory and improve efficiency.\n",
    "\n",
    "Disadvantages:\n",
    "\n",
    "Complexity: Multithreading can add complexity to a program, as it requires careful synchronization and coordination between threads to avoid race conditions and other concurrency issues.\n",
    "\n",
    "Overhead: Multithreading can add overhead to a program, as there is a cost associated with creating and managing multiple threads.\n",
    "\n",
    "Debugging: Multithreaded programs can be more difficult to debug, as concurrency issues can be difficult to reproduce and diagnose.\n",
    "\n",
    "Scalability: Multithreading may not always be the best solution for improving the scalability of a program, as it can be limited by factors such as the number of available cores or memory.\n",
    "\n",
    "Overall, multithreading can be a powerful tool for improving the performance and responsiveness of a program, but it requires careful design and management to avoid introducing new issues or complexity."
   ]
  },
  {
   "cell_type": "markdown",
   "id": "3b86a82e-5ef5-49d2-b96d-11761d0336a2",
   "metadata": {},
   "source": [
    "#Q6. Explain deadlocks and race conditions."
   ]
  },
  {
   "cell_type": "markdown",
   "id": "972f8f39-f4d0-4afe-aea7-d2526f49ba6d",
   "metadata": {},
   "source": [
    "#Deadlocks and race conditions are common concurrency issues that can occur in multithreaded programs.\n",
    "\n",
    "A deadlock occurs when two or more threads are blocked, waiting for each other to release a resource. This can happen when one thread holds a resource that another thread needs, and that second thread holds a resource that the first thread needs. This situation creates a circular dependency, where each thread is waiting for the other to release the resource, and neither can make progress.\n",
    "\n",
    "For example, imagine a program with two threads: Thread A and Thread B. Thread A holds Resource 1 and is waiting for Resource 2, while Thread B holds Resource 2 and is waiting for Resource 1. Since neither thread can proceed until it acquires the other resource, the program is deadlocked.\n",
    "\n",
    "A race condition, on the other hand, occurs when two or more threads access a shared resource in an unpredictable order, leading to unexpected or incorrect results. This can happen when multiple threads attempt to modify the same variable or object, and the order of those modifications is not deterministic.\n",
    "\n",
    "For example, imagine a program with two threads: Thread A and Thread B. Both threads access a shared variable called \"counter\" and increment it by 1. However, the order in which these increments occur is not guaranteed, and the final value of \"counter\" may be unpredictable. This is a race condition, as the final result depends on the order in which the threads execute, which may vary depending on factors such as thread scheduling and timing.\n",
    "\n",
    "Both deadlocks and race conditions can be difficult to detect and diagnose, as they can depend on a variety of external factors and may not be easily reproducible. To avoid these issues, it is important to design multithreaded programs carefully, with appropriate synchronization and coordination between threads to avoid conflicts and ensure correct behavior."
   ]
  },
  {
   "cell_type": "code",
   "execution_count": null,
   "id": "2fea6ca2-56bb-48a8-a3d1-e52d12a58675",
   "metadata": {},
   "outputs": [],
   "source": []
  }
 ],
 "metadata": {
  "kernelspec": {
   "display_name": "Python 3 (ipykernel)",
   "language": "python",
   "name": "python3"
  },
  "language_info": {
   "codemirror_mode": {
    "name": "ipython",
    "version": 3
   },
   "file_extension": ".py",
   "mimetype": "text/x-python",
   "name": "python",
   "nbconvert_exporter": "python",
   "pygments_lexer": "ipython3",
   "version": "3.10.8"
  }
 },
 "nbformat": 4,
 "nbformat_minor": 5
}
