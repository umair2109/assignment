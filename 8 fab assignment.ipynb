{
 "cells": [
  {
   "cell_type": "markdown",
   "id": "9084b17b-b320-46d0-87cf-2618260b37ff",
   "metadata": {},
   "source": [
    "#Q1. What is Abstraction in OOps? Explain with an example."
   ]
  },
  {
   "cell_type": "markdown",
   "id": "c4fd2429-5885-4379-939e-9085181933ad",
   "metadata": {},
   "source": [
    "#Abstraction in Object-Oriented Programming (OOP) refers to the concept of hiding the implementation details of an object and presenting only relevant information to the outside world.\n",
    "\n",
    "For example, consider a car object in OOP. The abstraction of a car object could be represented by its properties such as make, model, and year, and methods such as start, stop, and drive. The user of this car object does not need to know the internal workings of the car, such as how the engine starts or how the brakes work. The user only needs to know how to operate the car by using its relevant properties and methods.\n",
    "\n",
    "Abstraction helps in reducing the complexity of an object and makes it easier to use and understand, leading to more organized and efficient code."
   ]
  },
  {
   "cell_type": "markdown",
   "id": "1fb07400-45a8-49af-9ef9-83b406ede7e8",
   "metadata": {},
   "source": [
    "#Q2. Differentiate between Abstraction and Encapsulation. Explain with an example."
   ]
  },
  {
   "cell_type": "markdown",
   "id": "89b12e31-3a20-4e58-99f4-074373269825",
   "metadata": {},
   "source": [
    "Abstraction and Encapsulation are related concepts in Object-Oriented Programming (OOP), but they are different in their nature and purpose.\n",
    "\n",
    "Abstraction refers to the process of hiding the implementation details of an object and presenting only the relevant information to the outside world. It helps in reducing the complexity of an object and making it easier to understand and use.\n",
    "\n",
    "Encapsulation refers to the process of binding data and the methods that operate on that data within a single unit or object. It provides a protective shield to the data of an object and restricts the direct access to the data from outside the object. This helps in ensuring the data integrity and security of an object.\n",
    "\n",
    "For example, consider a bank account object in OOP. The abstraction of the bank account object could be represented by its properties such as account number and balance, and methods such as deposit and withdraw. The user of this bank account object does not need to know the internal workings of how the bank manages the account, such as how the deposit or withdraw methods update the balance.\n",
    "\n",
    "The encapsulation of the bank account object could be achieved by declaring the properties such as account number and balance as private, and providing the methods such as deposit and withdraw as public. This encapsulation ensures that the user can only access the account information through the provided methods and cannot directly access or modify the account number or balance properties.\n",
    "\n",
    "In summary, Abstraction focuses on hiding the implementation details, while Encapsulation focuses on binding the data and methods within a single unit and restricting the direct access to the data."
   ]
  },
  {
   "cell_type": "markdown",
   "id": "fe7705eb-b786-4049-9171-894ee880084f",
   "metadata": {},
   "source": [
    "Q3. What is abc module in python? Why is it used?"
   ]
  },
  {
   "cell_type": "code",
   "execution_count": null,
   "id": "e7a0bb04-f46a-4ddb-89e3-f1424ba6da66",
   "metadata": {},
   "outputs": [],
   "source": [
    "The abc module in Python is the Abstract Base Class module. It provides a way to define abstract base classes (ABCs) in Python, which are classes that cannot be instantiated and are meant to be subclassed. ABCs provide a way to specify an interface that must be implemented by its concrete subclasses.\n",
    "\n",
    "The abc module is used for creating abstract base classes in Python, which can be useful in situations where you want to define a common interface for a set of related classes. By defining an ABC, you can enforce that all concrete implementations of the class adhere to a certain interface. This helps in ensuring that the concrete implementations have certain properties, methods, or behaviors and makes it easier to use them interchangeably.\n",
    "\n",
    "For example, you could define an ABC for a data structure that requires the implementation of certain methods, such as push() and pop(), and then have different concrete implementations of the data structure, such as a Stack or Queue, inherit from the ABC and implement the required methods. This helps in ensuring that all implementations of the data structure have the necessary methods and makes it easier to write code that can work with different implementations interchangeably."
   ]
  }
 ],
 "metadata": {
  "kernelspec": {
   "display_name": "Python 3 (ipykernel)",
   "language": "python",
   "name": "python3"
  },
  "language_info": {
   "codemirror_mode": {
    "name": "ipython",
    "version": 3
   },
   "file_extension": ".py",
   "mimetype": "text/x-python",
   "name": "python",
   "nbconvert_exporter": "python",
   "pygments_lexer": "ipython3",
   "version": "3.10.8"
  }
 },
 "nbformat": 4,
 "nbformat_minor": 5
}
