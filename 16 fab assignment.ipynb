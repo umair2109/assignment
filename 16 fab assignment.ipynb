{
 "cells": [
  {
   "cell_type": "markdown",
   "id": "a9473106-714d-4257-812c-2a643e682ae5",
   "metadata": {},
   "source": [
    "#Q1. What is a database? Differentiate between SQL and NoSQL databases."
   ]
  },
  {
   "cell_type": "markdown",
   "id": "27cd4d8c-fc9a-4f14-84db-9b288bc235b5",
   "metadata": {},
   "source": [
    "#A database is a collection of structured data that is organized in a way that enables efficient storage, retrieval, and manipulation of information. Databases are commonly used in software applications, websites, and other information systems to store and manage large amounts of data.\n",
    "\n",
    "SQL (Structured Query Language) and NoSQL (Not Only SQL) are two different types of databases that have different architectures, data models, and query languages.\n",
    "\n",
    "SQL databases are relational databases that store data in tables with rows and columns. They use a standardized query language, SQL, to manipulate and retrieve data. SQL databases are ideal for structured data with well-defined relationships between different data points. Some examples of SQL databases include MySQL, PostgreSQL, and Oracle.\n",
    "\n",
    "NoSQL databases, on the other hand, are non-relational databases that store data in a more flexible way. They can handle unstructured, semi-structured, and structured data, and they do not require a fixed schema or data model. NoSQL databases use different data models, such as key-value, document, graph, or column-family. Examples of NoSQL databases include MongoDB, Cassandra, and Neo4j.\n",
    "\n",
    "The choice between SQL and NoSQL databases depends on the specific needs of the application or system. SQL databases are good for handling structured data that follows a specific schema, while NoSQL databases are more flexible and scalable for handling unstructured or semi-structured data. NoSQL databases are often preferred for web-scale applications and big data projects, while SQL databases are commonly used in traditional enterprise applications."
   ]
  },
  {
   "cell_type": "markdown",
   "id": "3d148dad-4dcb-41ab-a6c0-f0a2388eec82",
   "metadata": {},
   "source": [
    "#Q2. What is DDL? Explain why CREATE, DROP, ALTER, and TRUNCATE are used with an example"
   ]
  },
  {
   "cell_type": "markdown",
   "id": "71a9d603-f2fa-4328-bbd0-b2937949cddb",
   "metadata": {},
   "source": [
    "#DDL stands for Data Definition Language, which is a set of SQL commands that are used to define and manage the structure of database objects such as tables, indexes, views, and constraints. DDL statements are used to create, modify, and delete database objects, as well as to grant or revoke permissions on those objects.\n",
    "\n",
    "Here are some examples of DDL statements and their uses:\n",
    "\n",
    "CREATE: The CREATE statement is used to create new database objects, such as tables, views, indexes, and stored procedures. For example, the following SQL statement creates a new table called \"users\" with three columns: \"id\", \"name\", and \"email\":"
   ]
  },
  {
   "cell_type": "code",
   "execution_count": null,
   "id": "2fa23e0c-7c1f-4053-8691-3f80dc7b0617",
   "metadata": {},
   "outputs": [],
   "source": [
    "CREATE TABLE users (\n",
    "  id INT PRIMARY KEY,\n",
    "  name VARCHAR(50),\n",
    "  email VARCHAR(100)\n",
    ");"
   ]
  },
  {
   "cell_type": "markdown",
   "id": "598ca601-ac91-447e-b878-c07800950586",
   "metadata": {},
   "source": [
    "#DROP: The DROP statement is used to remove an existing database object. For example, the following SQL statement drops the \"users\" table that was created in the previous example:"
   ]
  },
  {
   "cell_type": "code",
   "execution_count": null,
   "id": "46f95187-4c10-43d3-b3af-d62ec4cc0f7c",
   "metadata": {},
   "outputs": [],
   "source": [
    "DROP TABLE users;"
   ]
  },
  {
   "cell_type": "markdown",
   "id": "0f9dddf5-5e34-4bcc-b3cf-06f052333872",
   "metadata": {},
   "source": [
    "#ALTER: The ALTER statement is used to modify an existing database object, such as a table or a view. For example, the following SQL statement adds a new column called \"age\" to the \"users\" table:\n",
    "\n",
    "ALTER TABLE users ADD COLUMN age INT;\n",
    "\n",
    "TRUNCATE: The TRUNCATE statement is used to delete all rows from a table, but the table structure remains intact. For example, the following SQL statement deletes all rows from the \"users\" table:"
   ]
  },
  {
   "cell_type": "code",
   "execution_count": null,
   "id": "a6605743-3747-4d7d-8089-125d286d70eb",
   "metadata": {},
   "outputs": [],
   "source": [
    "TRUNCATE TABLE users;"
   ]
  },
  {
   "cell_type": "markdown",
   "id": "a44a6c67-7481-4775-890e-36d81ee6420c",
   "metadata": {},
   "source": [
    "#Q3. What is DML? Explain INSERT, UPDATE, and DELETE with an example."
   ]
  },
  {
   "cell_type": "markdown",
   "id": "4423e03b-457d-4cd7-83a1-e1a3dccb6655",
   "metadata": {},
   "source": [
    "#DML stands for Data Manipulation Language, which is a set of SQL commands used to manipulate and modify the data stored in a database. DML statements are used to insert, update, delete, and retrieve data from a database. Here are some examples of DML statements and their uses:\n",
    "\n",
    "INSERT: The INSERT statement is used to add new rows to a table. For example, the following SQL statement inserts a new record into a table named \"users\" with the values \"John Doe\" for the name column, \"johndoe@example.com\" for the email column, and 25 for the age column:"
   ]
  },
  {
   "cell_type": "code",
   "execution_count": null,
   "id": "e74d9a7f-c9dd-4303-9368-2a6ac6a3df66",
   "metadata": {},
   "outputs": [],
   "source": [
    "INSERT INTO users (name, email, age) VALUES ('Umair khan', 'umair@pw.com', 28);"
   ]
  },
  {
   "cell_type": "markdown",
   "id": "bd296eb3-4518-4640-8cb0-69162a329cf9",
   "metadata": {},
   "source": [
    "#UPDATE: The UPDATE statement is used to modify existing data in a table. For example, the following SQL statement updates the email of the user with the name \"Umair khan\" to \"umair@pw.com\":"
   ]
  },
  {
   "cell_type": "code",
   "execution_count": null,
   "id": "b5e05e6c-02d4-4c79-9e49-28564c22e07d",
   "metadata": {},
   "outputs": [],
   "source": [
    "UPDATE users SET email = 'umair@pw.com' WHERE name = 'Umair khan';"
   ]
  },
  {
   "cell_type": "markdown",
   "id": "52f6e46e-a619-4d70-98c8-55ab770ce69c",
   "metadata": {},
   "source": [
    "#DML stands for Data Manipulation Language, which is a set of SQL commands used to manipulate and modify the data stored in a database. DML statements are used to insert, update, delete, and retrieve data from a database. Here are some examples of DML statements and their uses:\n",
    "\n",
    "INSERT: The INSERT statement is used to add new rows to a table. For example, the following SQL statement inserts a new record into a table named \"users\" with the values \"John Doe\" for the name column, \"umair@pw.com\" for the email column, and 28 for the age column: sql Copy code INSERT INTO users (name, email, age) VALUES ('Umair khan', 'umair@pw.com', 28); UPDATE: The UPDATE statement is used to modify existing data in a table. For example, the following SQL statement updates the email of the user with the name \"Umair khan\" to \"umair@pw.com\": sql Copy code UPDATE users SET email = 'umair@pw.com' WHERE name = 'Umair khan'; DELETE: The DELETE statement is used to remove existing data from a table. For example, the following SQL statement deletes the user with the name \"Umair khane\" from the \"users\" table:umair@pw.com"
   ]
  },
  {
   "cell_type": "code",
   "execution_count": null,
   "id": "48978298-b33c-4b51-8f3d-eca9e6a2427c",
   "metadata": {},
   "outputs": [],
   "source": [
    "DELETE FROM users WHERE name = 'Umair khane';"
   ]
  },
  {
   "cell_type": "markdown",
   "id": "bf7ba10c-7d80-4dd9-ad72-1e6d906d00e5",
   "metadata": {},
   "source": [
    "#Q4. What is DQL? Explain SELECT with an example."
   ]
  },
  {
   "cell_type": "markdown",
   "id": "6e6ece7d-902a-4def-bc8f-ede5288bc8cb",
   "metadata": {},
   "source": [
    "#DQL stands for Data Query Language, which is a subset of SQL used to retrieve data from a database. DQL statements are used to query the database and retrieve specific data based on specified criteria. The most commonly used DQL statement is SELECT.\n",
    "\n",
    "SELECT is used to retrieve data from one or more tables in a database. It allows you to specify the columns to retrieve, the table or tables to retrieve them from, and any conditions that the retrieved data must meet. Here's an example of a SELECT statement:"
   ]
  },
  {
   "cell_type": "code",
   "execution_count": null,
   "id": "cdfbd0fe-0b5e-46cd-bd11-09d94d88dbdb",
   "metadata": {},
   "outputs": [],
   "source": [
    "SELECT name, email FROM users WHERE age > 28;"
   ]
  },
  {
   "cell_type": "markdown",
   "id": "5620df74-c27e-48cf-9647-a7b0287c9e67",
   "metadata": {},
   "source": [
    "#Q5. Explain Primary Key and Foreign Key."
   ]
  },
  {
   "cell_type": "markdown",
   "id": "80c4cc19-98df-42e7-8808-de59fff87cb6",
   "metadata": {},
   "source": [
    "#A primary key is a column or set of columns in a table that uniquely identifies each row or record in that table. It ensures that each row in the table is uniquely identifiable and is used to enforce data integrity constraints. A primary key column cannot contain null values and must have a unique value for each row.\n",
    "\n",
    "Here's an example of a table with a primary key:"
   ]
  },
  {
   "cell_type": "code",
   "execution_count": null,
   "id": "d41eb8df-88a7-4bd0-b85f-202d57be19e9",
   "metadata": {},
   "outputs": [],
   "source": [
    "CREATE TABLE students (\n",
    "    id INT PRIMARY KEY,\n",
    "    name UMAIR(50),\n",
    "    email UMAIR(100),\n",
    "    age INT\n",
    ");"
   ]
  },
  {
   "cell_type": "markdown",
   "id": "f77c1c0a-f0d4-4f88-a829-93adc895b955",
   "metadata": {},
   "source": [
    "#A foreign key is a column or set of columns in a table that refers to the primary key of another table. It establishes a link between two tables, which allows data to be retrieved from multiple tables using a single query. A foreign key is used to enforce referential integrity constraints, which ensure that the data in the foreign key column matches the data in the primary key column of the other table.\n",
    "\n",
    "Here's an example of a table with a foreign key:"
   ]
  },
  {
   "cell_type": "code",
   "execution_count": null,
   "id": "ebbf9bda-9505-4f4c-83c8-fe42cb96c425",
   "metadata": {},
   "outputs": [],
   "source": [
    "CREATE TABLE courses (\n",
    "    id INT PRIMARY KEY,\n",
    "    name UMAIR(50),\n",
    "    instructor_id INT,\n",
    "    FOREIGN KEY (instructor_id) REFERENCES instructors(id)\n",
    ");"
   ]
  },
  {
   "cell_type": "markdown",
   "id": "21b7b0db-668a-40c7-9335-909f4b516481",
   "metadata": {},
   "source": [
    "#Q6. Write a python code to connect MySQL to python. Explain the cursor() and execute() method."
   ]
  },
  {
   "cell_type": "markdown",
   "id": "b79ed9af-4494-4c6b-8f03-4202612e9028",
   "metadata": {},
   "source": [
    "#To connect MySQL to Python, we need to have the mysql-connector-python library installed. We can install it using pip, like this:"
   ]
  },
  {
   "cell_type": "code",
   "execution_count": null,
   "id": "a404ad0b-d652-40b5-9c8b-b99e2aaeb201",
   "metadata": {},
   "outputs": [],
   "source": [
    "pip install mysql-connector-python\n",
    "Collecting mysql-connector-python\n",
    "  Downloading mysql_connector_python-8.0.32-cp310-cp310-manylinux1_x86_64.whl (23.5 MB)\n",
    "     ━━━━━━━━━━━━━━━━━━━━━━━━━━━━━━━━━━━━━━━━ 23.5/23.5 MB 27.3 MB/s eta 0:00:0000:0100:01\n",
    "Collecting protobuf<=3.20.3,>=3.11.0\n",
    "  Downloading protobuf-3.20.3-cp310-cp310-manylinux_2_12_x86_64.manylinux2010_x86_64.whl (1.1 MB)\n",
    "     ━━━━━━━━━━━━━━━━━━━━━━━━━━━━━━━━━━━━━━━━ 1.1/1.1 MB 57.2 MB/s eta 0:00:00\n",
    "Installing collected packages: protobuf, mysql-connector-python\n",
    "  Attempting uninstall: protobuf\n",
    "    Found existing installation: protobuf 4.21.11\n",
    "    Uninstalling protobuf-4.21.11:\n",
    "      Successfully uninstalled protobuf-4.21.11\n",
    "Successfully installed mysql-connector-python-8.0.32 protobuf-3.20.3\n",
    "Note: you may need to restart the kernel to use updated packages.\n",
    "Once we have installed the library, we can connect to a MySQL database using the following Python code:\n",
    "\n",
    "import mysql.connector\n",
    "\n",
    "mydb = mysql.connector.connect(\n",
    "  host=\"localhost\",\n",
    "  user=\"username\",\n",
    "  password=\"password\",\n",
    "  database=\"database\"\n",
    ")\n",
    "mycursor = mydb.cursor()"
   ]
  },
  {
   "cell_type": "markdown",
   "id": "631450ce-86b4-40bb-a737-5a95338e4b24",
   "metadata": {},
   "source": [
    "#In this code, we first import the mysql.connector module and use the connect() method to establish a connection to the MySQL database. We need to provide the database connection details, such as the host, username, password, and database name.\n",
    "\n",
    "After establishing the connection, we create a cursor object using the cursor() method of the database connection object. The cursor object allows us to execute SQL statements on the database.\n",
    "\n",
    "The execute() method is used to execute an SQL statement on the database using the cursor object. It takes an SQL statement as its parameter and returns the result of the statement, if any. Here's an example of how to use the execute() method to execute a SELECT statement:"
   ]
  },
  {
   "cell_type": "code",
   "execution_count": null,
   "id": "e7393e17-1564-4253-bb9d-60b1173c2a74",
   "metadata": {},
   "outputs": [],
   "source": [
    "sql = \"SELECT * FROM customers\"\n",
    "\n",
    "mycursor.execute(sql)\n",
    "\n",
    "myresult = mycursor.fetchall()\n",
    "\n",
    "for x in myresult:\n",
    "  print(x)"
   ]
  },
  {
   "cell_type": "markdown",
   "id": "3e01f2e8-dac2-4731-be51-f01deadcf4e1",
   "metadata": {},
   "source": [
    "#In this code, you first define an SQL SELECT statement and store it in the sql variable. You then call the execute() method on the cursor object, passing the sql variable as its parameter. This executes the SELECT statement on the database and returns the result.\n",
    "\n",
    "The fetchall() method is used to fetch all the rows returned by the SELECT statement. It returns a list of tuples, where each tuple represents a row in the result set. You can then loop through the result set and print each row, as shown in the code above.\n",
    "\n",
    "In summary, the cursor() method is used to create a cursor object, which allows you to execute SQL statements on the database. The execute() method is used to execute an SQL statement on the database using the cursor object, and the fetchall() method is used to retrieve the results of the SQL statement."
   ]
  },
  {
   "cell_type": "markdown",
   "id": "9a50235b-d19a-4be6-95db-e0c00ecc4980",
   "metadata": {},
   "source": [
    "#Q7. Give the order of execution of SQL clauses in an SQL query."
   ]
  },
  {
   "cell_type": "markdown",
   "id": "814e7e27-2ba1-4456-b912-eef68e96d614",
   "metadata": {},
   "source": [
    "#The order of execution of SQL clauses in an SQL query can be summarized as follows:\n",
    "\n",
    "FROM clause: The FROM clause specifies the table or tables from which the data will be retrieved. If multiple tables are used, they may be joined using the JOIN clause.\n",
    "\n",
    "WHERE clause: The WHERE clause filters the data based on a specified condition or set of conditions. It is used to retrieve only the rows that meet the specified criteria.\n",
    "\n",
    "GROUP BY clause: The GROUP BY clause is used to group the result set by one or more columns. It is often used in conjunction with aggregate functions, such as COUNT, SUM, AVG, etc.\n",
    "\n",
    "HAVING clause: The HAVING clause is used to filter the result set based on a specified condition or set of conditions. It is similar to the WHERE clause, but it is applied after the data has been grouped by the GROUP BY clause.\n",
    "\n",
    "SELECT clause: The SELECT clause specifies the columns that will be included in the result set. It can also be used to apply functions or expressions to the data, such as CONCAT, DATE_FORMAT, etc.\n",
    "\n",
    "ORDER BY clause: The ORDER BY clause is used to sort the result set based on one or more columns. It can sort the data in ascending or descending order.\n",
    "\n",
    "LIMIT clause: The LIMIT clause is used to limit the number of rows returned by the query. It is often used in conjunction with the ORDER BY clause to retrieve the top N rows based on a specified criteria.\n",
    "\n",
    "It's important to note that not all clauses are required in every query. The basic syntax of an SQL query is:"
   ]
  },
  {
   "cell_type": "code",
   "execution_count": null,
   "id": "cd744c5f-811a-42f0-98cd-39dcb5a1e628",
   "metadata": {},
   "outputs": [],
   "source": [
    "SELECT column1, column2, ...\n",
    "FROM table_name\n",
    "WHERE condition;"
   ]
  }
 ],
 "metadata": {
  "kernelspec": {
   "display_name": "Python 3 (ipykernel)",
   "language": "python",
   "name": "python3"
  },
  "language_info": {
   "codemirror_mode": {
    "name": "ipython",
    "version": 3
   },
   "file_extension": ".py",
   "mimetype": "text/x-python",
   "name": "python",
   "nbconvert_exporter": "python",
   "pygments_lexer": "ipython3",
   "version": "3.10.8"
  }
 },
 "nbformat": 4,
 "nbformat_minor": 5
}
